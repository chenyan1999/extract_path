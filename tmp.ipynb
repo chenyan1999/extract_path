{
 "cells": [
  {
   "cell_type": "code",
   "execution_count": 7,
   "metadata": {},
   "outputs": [
    {
     "name": "stdout",
     "output_type": "stream",
     "text": [
      "class RunCommand(BaseTransformersCLICommand):\n",
      "├-- def register_subcommand(parser: ArgumentParser):\n",
      "│   ├-- def run(self, args: Namespace):\n",
      "│   │   └-- def _run(self, args: Namespace):\n",
      "\n"
     ]
    }
   ],
   "source": [
    "structure_path = [\n",
    "    \"class RunCommand(BaseTransformersCLICommand):\",\n",
    "    \"def register_subcommand(parser: ArgumentParser):\",\n",
    "    \"def run(self, args: Namespace):\",\n",
    "    \"def _run(self, args: Namespace):\",\n",
    "]\n",
    "if structure_path:\n",
    "    formatted_path = \"\"\n",
    "    for level, node in enumerate(structure_path):\n",
    "        if level > 1:\n",
    "            indent = \"    \" * (level -1)  # 每层增加4个空格缩进\n",
    "        else:\n",
    "            indent = \"\"\n",
    "        if level > 0:\n",
    "            branch_symbol = \"├-- \" if level < len(structure_path) - 1 else \"└-- \"\n",
    "            for i in range(level - 1):\n",
    "                branch_symbol = \"│   \" + branch_symbol\n",
    "        else:\n",
    "            branch_symbol = \"\"\n",
    "        \n",
    "        formatted_path += f\"{branch_symbol}{node}\\n\"\n",
    "    print(formatted_path)"
   ]
  },
  {
   "cell_type": "code",
   "execution_count": null,
   "metadata": {},
   "outputs": [],
   "source": []
  }
 ],
 "metadata": {
  "kernelspec": {
   "display_name": "nlp",
   "language": "python",
   "name": "python3"
  },
  "language_info": {
   "codemirror_mode": {
    "name": "ipython",
    "version": 3
   },
   "file_extension": ".py",
   "mimetype": "text/x-python",
   "name": "python",
   "nbconvert_exporter": "python",
   "pygments_lexer": "ipython3",
   "version": "3.12.7"
  }
 },
 "nbformat": 4,
 "nbformat_minor": 2
}
